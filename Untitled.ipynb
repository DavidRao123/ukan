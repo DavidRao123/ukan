{
 "cells": [
  {
   "cell_type": "code",
   "execution_count": 14,
   "id": "81e31099-f854-4480-a6b8-04704ee266ba",
   "metadata": {},
   "outputs": [],
   "source": [
    "\n",
    "import numpy as np\n",
    "import pandas as pd\n",
    "import torch\n",
    "from torch.utils.data import DataLoader\n",
    "from pytorch_msssim import MS_SSIM\n",
    "# from models.trcan import LARN_noET, LARN\n",
    "from models.rcan import RCAN\n",
    "# from models.DNBSRN import DNBSRN\n",
    "from models.model_base import BaseModel\n",
    "from models.dfcan import DFCAN"
   ]
  },
  {
   "cell_type": "code",
   "execution_count": 15,
   "id": "f333fe91-f66a-4e79-af47-ff1dc8d64465",
   "metadata": {},
   "outputs": [],
   "source": [
    "class modelContainer(BaseModel):\n",
    "    \"\"\"RCAN Model\"\"\"\n",
    "    def __init__(self, exp_name=\"test\", exp_dir = '../exp/', modelname = 'RCAN', device=\"cuda\", n_groups=5, n_blocks=3, n_feats=48, loss='SmoothL1',\n",
    "                 in_channel = 1, n_class=1, num_ARBs=5, lr = 1e-4):\n",
    "        super().__init__(exp_name=exp_name,exp_dir=exp_dir, device=device)\n",
    "        # model\n",
    "        if modelname == 'RCAN' or modelname=='rcan':\n",
    "            self.model = RCAN(n_channels=in_channel, n_classes=n_class, n_resblocks=n_blocks, n_resgroups=n_groups, n_feats=n_feats)\n",
    "        # elif modelname == 'DNBSRN':\n",
    "        #     self.model = DNBSRN( n_channels=in_channel, num_branches=3, n_feat=48, kernel_size=7 )\n",
    "        elif modelname == 'DFCAN':\n",
    "            self.model = DFCAN( n_channels=in_channel, n_classes= n_class )\n",
    "        # elif modelname == 'LARN1en':\n",
    "        #     self.model = LARN_noET(n_channels=in_channel, n_classes=n_class, num_encoder=1, num_ARBs=num_ARBs)\n",
    "        # elif modelname == 'LARN2en':\n",
    "        #     self.model = LARN_noET(n_channels=in_channel, n_classes=n_class, num_encoder=2)\n",
    "        # elif modelname == 'LARN3en':\n",
    "        #     self.model = LARN_noET(n_channels=in_channel, n_classes=n_class, num_encoder=3)\n",
    "        # elif modelname == 'LARN_ET':\n",
    "        #     self.model = LARN( n_channels=in_channel, n_classes=n_class, n_feats = 32, num_encoder=1 )\n",
    "        # default loss functions\n",
    "        self.loss = loss\n",
    "        if loss==\"SmoothL1\":\n",
    "            self.loss_function = torch.nn.SmoothL1Loss()\n",
    "            self.loss_function.to(self.device)\n",
    "        elif loss==\"L2\":\n",
    "            self.loss_function = torch.nn.MSELoss()\n",
    "            self.loss_function.to(self.device)\n",
    "        elif loss == 'MIX':\n",
    "            self.weight = 0.84\n",
    "            self.L1_loss = torch.nn.SmoothL1Loss()\n",
    "            self.MSSSIM = MS_SSIM(data_range=1.75, size_average=True, channel=1)\n",
    "\n",
    "            self.L1_loss.to(self.device)\n",
    "            self.MSSSIM.to(self.device)\n",
    "        else:\n",
    "            Exception(\"Unknown loss functions!\")\n",
    "        # default optimizer\n",
    "        self.lr = lr\n",
    "        self.optimizer = torch.optim.Adam(self.model.parameters(), lr= self.lr)\n",
    "        # device        \n",
    "        self.model.to(self.device) \n",
    "        # self.loss_function.to(self.device)\n",
    "        # is 1C\n",
    "        self.is1C = True"
   ]
  },
  {
   "cell_type": "code",
   "execution_count": null,
   "id": "ce517dda-7717-473f-b74a-4e85715f70dc",
   "metadata": {},
   "outputs": [],
   "source": []
  }
 ],
 "metadata": {
  "kernelspec": {
   "display_name": "Python 3 (ipykernel)",
   "language": "python",
   "name": "python3"
  },
  "language_info": {
   "codemirror_mode": {
    "name": "ipython",
    "version": 3
   },
   "file_extension": ".py",
   "mimetype": "text/x-python",
   "name": "python",
   "nbconvert_exporter": "python",
   "pygments_lexer": "ipython3",
   "version": "3.9.21"
  }
 },
 "nbformat": 4,
 "nbformat_minor": 5
}
